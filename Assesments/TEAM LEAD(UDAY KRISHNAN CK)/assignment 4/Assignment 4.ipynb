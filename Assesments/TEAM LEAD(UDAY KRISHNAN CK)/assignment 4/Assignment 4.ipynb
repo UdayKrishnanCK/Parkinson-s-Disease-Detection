{
  "nbformat": 4,
  "nbformat_minor": 0,
  "metadata": {
    "colab": {
      "provenance": [],
      "collapsed_sections": [],
      "toc_visible": true
    },
    "kernelspec": {
      "name": "python3",
      "display_name": "Python 3"
    },
    "language_info": {
      "name": "python"
    }
  },
  "cells": [
    {
      "cell_type": "markdown",
      "source": [
        "ASSIGNMENT 4\n",
        "\n",
        "Customer Segmentation Analysis"
      ],
      "metadata": {
        "id": "-EHVg2Ks2G8E"
      }
    },
    {
      "cell_type": "code",
      "execution_count": null,
      "metadata": {
        "id": "Opx_wnSW2Cis"
      },
      "outputs": [],
      "source": [
        "import numpy as np\n",
        "import matplotlib.pyplot as plt\n",
        "import pandas as pd\n",
        "import seaborn as sns\n",
        "\n",
        "import warnings\n",
        "warnings.filterwarnings(\"ignore\")"
      ]
    },
    {
      "cell_type": "markdown",
      "source": [
        "Download the dataset"
      ],
      "metadata": {
        "id": "T7MW_X0V2T-J"
      }
    },
    {
      "cell_type": "code",
      "source": [
        "from google.colab import files\n",
        "uploaded=files.upload()"
      ],
      "metadata": {
        "colab": {
          "base_uri": "https://localhost:8080/",
          "height": 74
        },
        "id": "TbGXq3nj2VO1",
        "outputId": "6e85cb13-bf1c-4de3-dfed-b9151040bb87"
      },
      "execution_count": null,
      "outputs": [
        {
          "output_type": "display_data",
          "data": {
            "text/plain": [
              "<IPython.core.display.HTML object>"
            ],
            "text/html": [
              "\n",
              "     <input type=\"file\" id=\"files-0e6195be-caae-47b0-9218-1983a21cc24f\" name=\"files[]\" multiple disabled\n",
              "        style=\"border:none\" />\n",
              "     <output id=\"result-0e6195be-caae-47b0-9218-1983a21cc24f\">\n",
              "      Upload widget is only available when the cell has been executed in the\n",
              "      current browser session. Please rerun this cell to enable.\n",
              "      </output>\n",
              "      <script>// Copyright 2017 Google LLC\n",
              "//\n",
              "// Licensed under the Apache License, Version 2.0 (the \"License\");\n",
              "// you may not use this file except in compliance with the License.\n",
              "// You may obtain a copy of the License at\n",
              "//\n",
              "//      http://www.apache.org/licenses/LICENSE-2.0\n",
              "//\n",
              "// Unless required by applicable law or agreed to in writing, software\n",
              "// distributed under the License is distributed on an \"AS IS\" BASIS,\n",
              "// WITHOUT WARRANTIES OR CONDITIONS OF ANY KIND, either express or implied.\n",
              "// See the License for the specific language governing permissions and\n",
              "// limitations under the License.\n",
              "\n",
              "/**\n",
              " * @fileoverview Helpers for google.colab Python module.\n",
              " */\n",
              "(function(scope) {\n",
              "function span(text, styleAttributes = {}) {\n",
              "  const element = document.createElement('span');\n",
              "  element.textContent = text;\n",
              "  for (const key of Object.keys(styleAttributes)) {\n",
              "    element.style[key] = styleAttributes[key];\n",
              "  }\n",
              "  return element;\n",
              "}\n",
              "\n",
              "// Max number of bytes which will be uploaded at a time.\n",
              "const MAX_PAYLOAD_SIZE = 100 * 1024;\n",
              "\n",
              "function _uploadFiles(inputId, outputId) {\n",
              "  const steps = uploadFilesStep(inputId, outputId);\n",
              "  const outputElement = document.getElementById(outputId);\n",
              "  // Cache steps on the outputElement to make it available for the next call\n",
              "  // to uploadFilesContinue from Python.\n",
              "  outputElement.steps = steps;\n",
              "\n",
              "  return _uploadFilesContinue(outputId);\n",
              "}\n",
              "\n",
              "// This is roughly an async generator (not supported in the browser yet),\n",
              "// where there are multiple asynchronous steps and the Python side is going\n",
              "// to poll for completion of each step.\n",
              "// This uses a Promise to block the python side on completion of each step,\n",
              "// then passes the result of the previous step as the input to the next step.\n",
              "function _uploadFilesContinue(outputId) {\n",
              "  const outputElement = document.getElementById(outputId);\n",
              "  const steps = outputElement.steps;\n",
              "\n",
              "  const next = steps.next(outputElement.lastPromiseValue);\n",
              "  return Promise.resolve(next.value.promise).then((value) => {\n",
              "    // Cache the last promise value to make it available to the next\n",
              "    // step of the generator.\n",
              "    outputElement.lastPromiseValue = value;\n",
              "    return next.value.response;\n",
              "  });\n",
              "}\n",
              "\n",
              "/**\n",
              " * Generator function which is called between each async step of the upload\n",
              " * process.\n",
              " * @param {string} inputId Element ID of the input file picker element.\n",
              " * @param {string} outputId Element ID of the output display.\n",
              " * @return {!Iterable<!Object>} Iterable of next steps.\n",
              " */\n",
              "function* uploadFilesStep(inputId, outputId) {\n",
              "  const inputElement = document.getElementById(inputId);\n",
              "  inputElement.disabled = false;\n",
              "\n",
              "  const outputElement = document.getElementById(outputId);\n",
              "  outputElement.innerHTML = '';\n",
              "\n",
              "  const pickedPromise = new Promise((resolve) => {\n",
              "    inputElement.addEventListener('change', (e) => {\n",
              "      resolve(e.target.files);\n",
              "    });\n",
              "  });\n",
              "\n",
              "  const cancel = document.createElement('button');\n",
              "  inputElement.parentElement.appendChild(cancel);\n",
              "  cancel.textContent = 'Cancel upload';\n",
              "  const cancelPromise = new Promise((resolve) => {\n",
              "    cancel.onclick = () => {\n",
              "      resolve(null);\n",
              "    };\n",
              "  });\n",
              "\n",
              "  // Wait for the user to pick the files.\n",
              "  const files = yield {\n",
              "    promise: Promise.race([pickedPromise, cancelPromise]),\n",
              "    response: {\n",
              "      action: 'starting',\n",
              "    }\n",
              "  };\n",
              "\n",
              "  cancel.remove();\n",
              "\n",
              "  // Disable the input element since further picks are not allowed.\n",
              "  inputElement.disabled = true;\n",
              "\n",
              "  if (!files) {\n",
              "    return {\n",
              "      response: {\n",
              "        action: 'complete',\n",
              "      }\n",
              "    };\n",
              "  }\n",
              "\n",
              "  for (const file of files) {\n",
              "    const li = document.createElement('li');\n",
              "    li.append(span(file.name, {fontWeight: 'bold'}));\n",
              "    li.append(span(\n",
              "        `(${file.type || 'n/a'}) - ${file.size} bytes, ` +\n",
              "        `last modified: ${\n",
              "            file.lastModifiedDate ? file.lastModifiedDate.toLocaleDateString() :\n",
              "                                    'n/a'} - `));\n",
              "    const percent = span('0% done');\n",
              "    li.appendChild(percent);\n",
              "\n",
              "    outputElement.appendChild(li);\n",
              "\n",
              "    const fileDataPromise = new Promise((resolve) => {\n",
              "      const reader = new FileReader();\n",
              "      reader.onload = (e) => {\n",
              "        resolve(e.target.result);\n",
              "      };\n",
              "      reader.readAsArrayBuffer(file);\n",
              "    });\n",
              "    // Wait for the data to be ready.\n",
              "    let fileData = yield {\n",
              "      promise: fileDataPromise,\n",
              "      response: {\n",
              "        action: 'continue',\n",
              "      }\n",
              "    };\n",
              "\n",
              "    // Use a chunked sending to avoid message size limits. See b/62115660.\n",
              "    let position = 0;\n",
              "    do {\n",
              "      const length = Math.min(fileData.byteLength - position, MAX_PAYLOAD_SIZE);\n",
              "      const chunk = new Uint8Array(fileData, position, length);\n",
              "      position += length;\n",
              "\n",
              "      const base64 = btoa(String.fromCharCode.apply(null, chunk));\n",
              "      yield {\n",
              "        response: {\n",
              "          action: 'append',\n",
              "          file: file.name,\n",
              "          data: base64,\n",
              "        },\n",
              "      };\n",
              "\n",
              "      let percentDone = fileData.byteLength === 0 ?\n",
              "          100 :\n",
              "          Math.round((position / fileData.byteLength) * 100);\n",
              "      percent.textContent = `${percentDone}% done`;\n",
              "\n",
              "    } while (position < fileData.byteLength);\n",
              "  }\n",
              "\n",
              "  // All done.\n",
              "  yield {\n",
              "    response: {\n",
              "      action: 'complete',\n",
              "    }\n",
              "  };\n",
              "}\n",
              "\n",
              "scope.google = scope.google || {};\n",
              "scope.google.colab = scope.google.colab || {};\n",
              "scope.google.colab._files = {\n",
              "  _uploadFiles,\n",
              "  _uploadFilesContinue,\n",
              "};\n",
              "})(self);\n",
              "</script> "
            ]
          },
          "metadata": {}
        },
        {
          "output_type": "stream",
          "name": "stdout",
          "text": [
            "Saving Mall_Customers.csv to Mall_Customers.csv\n"
          ]
        }
      ]
    },
    {
      "cell_type": "markdown",
      "source": [
        "Load the dataset into the tool"
      ],
      "metadata": {
        "id": "HP6FHTSU2ftc"
      }
    },
    {
      "cell_type": "code",
      "source": [
        "# importing the dataset\n",
        "\n",
        "df = pd.read_csv('Mall_Customers.csv')"
      ],
      "metadata": {
        "id": "t8B5cip32gj3"
      },
      "execution_count": null,
      "outputs": []
    },
    {
      "cell_type": "code",
      "source": [
        "df.head()"
      ],
      "metadata": {
        "colab": {
          "base_uri": "https://localhost:8080/",
          "height": 206
        },
        "id": "y7iX_uzi2sDz",
        "outputId": "cb819001-771b-40cb-a7e4-d0e22372dce8"
      },
      "execution_count": null,
      "outputs": [
        {
          "output_type": "execute_result",
          "data": {
            "text/plain": [
              "   CustomerID  Gender  Age  Annual Income (k$)  Spending Score (1-100)\n",
              "0           1    Male   19                  15                      39\n",
              "1           2    Male   21                  15                      81\n",
              "2           3  Female   20                  16                       6\n",
              "3           4  Female   23                  16                      77\n",
              "4           5  Female   31                  17                      40"
            ],
            "text/html": [
              "\n",
              "  <div id=\"df-423ae6f1-d7df-4b10-aa96-d2497c0383a8\">\n",
              "    <div class=\"colab-df-container\">\n",
              "      <div>\n",
              "<style scoped>\n",
              "    .dataframe tbody tr th:only-of-type {\n",
              "        vertical-align: middle;\n",
              "    }\n",
              "\n",
              "    .dataframe tbody tr th {\n",
              "        vertical-align: top;\n",
              "    }\n",
              "\n",
              "    .dataframe thead th {\n",
              "        text-align: right;\n",
              "    }\n",
              "</style>\n",
              "<table border=\"1\" class=\"dataframe\">\n",
              "  <thead>\n",
              "    <tr style=\"text-align: right;\">\n",
              "      <th></th>\n",
              "      <th>CustomerID</th>\n",
              "      <th>Gender</th>\n",
              "      <th>Age</th>\n",
              "      <th>Annual Income (k$)</th>\n",
              "      <th>Spending Score (1-100)</th>\n",
              "    </tr>\n",
              "  </thead>\n",
              "  <tbody>\n",
              "    <tr>\n",
              "      <th>0</th>\n",
              "      <td>1</td>\n",
              "      <td>Male</td>\n",
              "      <td>19</td>\n",
              "      <td>15</td>\n",
              "      <td>39</td>\n",
              "    </tr>\n",
              "    <tr>\n",
              "      <th>1</th>\n",
              "      <td>2</td>\n",
              "      <td>Male</td>\n",
              "      <td>21</td>\n",
              "      <td>15</td>\n",
              "      <td>81</td>\n",
              "    </tr>\n",
              "    <tr>\n",
              "      <th>2</th>\n",
              "      <td>3</td>\n",
              "      <td>Female</td>\n",
              "      <td>20</td>\n",
              "      <td>16</td>\n",
              "      <td>6</td>\n",
              "    </tr>\n",
              "    <tr>\n",
              "      <th>3</th>\n",
              "      <td>4</td>\n",
              "      <td>Female</td>\n",
              "      <td>23</td>\n",
              "      <td>16</td>\n",
              "      <td>77</td>\n",
              "    </tr>\n",
              "    <tr>\n",
              "      <th>4</th>\n",
              "      <td>5</td>\n",
              "      <td>Female</td>\n",
              "      <td>31</td>\n",
              "      <td>17</td>\n",
              "      <td>40</td>\n",
              "    </tr>\n",
              "  </tbody>\n",
              "</table>\n",
              "</div>\n",
              "      <button class=\"colab-df-convert\" onclick=\"convertToInteractive('df-423ae6f1-d7df-4b10-aa96-d2497c0383a8')\"\n",
              "              title=\"Convert this dataframe to an interactive table.\"\n",
              "              style=\"display:none;\">\n",
              "        \n",
              "  <svg xmlns=\"http://www.w3.org/2000/svg\" height=\"24px\"viewBox=\"0 0 24 24\"\n",
              "       width=\"24px\">\n",
              "    <path d=\"M0 0h24v24H0V0z\" fill=\"none\"/>\n",
              "    <path d=\"M18.56 5.44l.94 2.06.94-2.06 2.06-.94-2.06-.94-.94-2.06-.94 2.06-2.06.94zm-11 1L8.5 8.5l.94-2.06 2.06-.94-2.06-.94L8.5 2.5l-.94 2.06-2.06.94zm10 10l.94 2.06.94-2.06 2.06-.94-2.06-.94-.94-2.06-.94 2.06-2.06.94z\"/><path d=\"M17.41 7.96l-1.37-1.37c-.4-.4-.92-.59-1.43-.59-.52 0-1.04.2-1.43.59L10.3 9.45l-7.72 7.72c-.78.78-.78 2.05 0 2.83L4 21.41c.39.39.9.59 1.41.59.51 0 1.02-.2 1.41-.59l7.78-7.78 2.81-2.81c.8-.78.8-2.07 0-2.86zM5.41 20L4 18.59l7.72-7.72 1.47 1.35L5.41 20z\"/>\n",
              "  </svg>\n",
              "      </button>\n",
              "      \n",
              "  <style>\n",
              "    .colab-df-container {\n",
              "      display:flex;\n",
              "      flex-wrap:wrap;\n",
              "      gap: 12px;\n",
              "    }\n",
              "\n",
              "    .colab-df-convert {\n",
              "      background-color: #E8F0FE;\n",
              "      border: none;\n",
              "      border-radius: 50%;\n",
              "      cursor: pointer;\n",
              "      display: none;\n",
              "      fill: #1967D2;\n",
              "      height: 32px;\n",
              "      padding: 0 0 0 0;\n",
              "      width: 32px;\n",
              "    }\n",
              "\n",
              "    .colab-df-convert:hover {\n",
              "      background-color: #E2EBFA;\n",
              "      box-shadow: 0px 1px 2px rgba(60, 64, 67, 0.3), 0px 1px 3px 1px rgba(60, 64, 67, 0.15);\n",
              "      fill: #174EA6;\n",
              "    }\n",
              "\n",
              "    [theme=dark] .colab-df-convert {\n",
              "      background-color: #3B4455;\n",
              "      fill: #D2E3FC;\n",
              "    }\n",
              "\n",
              "    [theme=dark] .colab-df-convert:hover {\n",
              "      background-color: #434B5C;\n",
              "      box-shadow: 0px 1px 3px 1px rgba(0, 0, 0, 0.15);\n",
              "      filter: drop-shadow(0px 1px 2px rgba(0, 0, 0, 0.3));\n",
              "      fill: #FFFFFF;\n",
              "    }\n",
              "  </style>\n",
              "\n",
              "      <script>\n",
              "        const buttonEl =\n",
              "          document.querySelector('#df-423ae6f1-d7df-4b10-aa96-d2497c0383a8 button.colab-df-convert');\n",
              "        buttonEl.style.display =\n",
              "          google.colab.kernel.accessAllowed ? 'block' : 'none';\n",
              "\n",
              "        async function convertToInteractive(key) {\n",
              "          const element = document.querySelector('#df-423ae6f1-d7df-4b10-aa96-d2497c0383a8');\n",
              "          const dataTable =\n",
              "            await google.colab.kernel.invokeFunction('convertToInteractive',\n",
              "                                                     [key], {});\n",
              "          if (!dataTable) return;\n",
              "\n",
              "          const docLinkHtml = 'Like what you see? Visit the ' +\n",
              "            '<a target=\"_blank\" href=https://colab.research.google.com/notebooks/data_table.ipynb>data table notebook</a>'\n",
              "            + ' to learn more about interactive tables.';\n",
              "          element.innerHTML = '';\n",
              "          dataTable['output_type'] = 'display_data';\n",
              "          await google.colab.output.renderOutput(dataTable, element);\n",
              "          const docLink = document.createElement('div');\n",
              "          docLink.innerHTML = docLinkHtml;\n",
              "          element.appendChild(docLink);\n",
              "        }\n",
              "      </script>\n",
              "    </div>\n",
              "  </div>\n",
              "  "
            ]
          },
          "metadata": {},
          "execution_count": 4
        }
      ]
    },
    {
      "cell_type": "markdown",
      "source": [
        "Perform Below Visualizations :\n",
        "\n",
        "Univariate Analysis"
      ],
      "metadata": {
        "id": "gRS6z1GW2z0O"
      }
    },
    {
      "cell_type": "code",
      "source": [
        "sns.displot(df[\"Spending Score (1-100)\"])"
      ],
      "metadata": {
        "colab": {
          "base_uri": "https://localhost:8080/",
          "height": 386
        },
        "id": "7VNTS45920yK",
        "outputId": "9bbfbd24-03ec-40d0-b8b8-138f8f5f45a1"
      },
      "execution_count": null,
      "outputs": [
        {
          "output_type": "execute_result",
          "data": {
            "text/plain": [
              "<seaborn.axisgrid.FacetGrid at 0x7f3e91548a90>"
            ]
          },
          "metadata": {},
          "execution_count": 5
        },
        {
          "output_type": "display_data",
          "data": {
            "text/plain": [
              "<Figure size 360x360 with 1 Axes>"
            ],
            "image/png": "[encoded data removed]"
          },
          "metadata": {
            "needs_background": "light"
          }
        }
      ]
    },
    {
      "cell_type": "markdown",
      "source": [
        "Bi-Variate AnalysiS\n",
        "![image.png]()"
      ],
      "metadata": {
        "id": "XpNeY70m3UWy"
      }
    },
    {
      "cell_type": "code",
      "source": [
        "sns.set(rc={'figure.figsize':(22,11)})"
      ],
      "metadata": {
        "id": "7iSsOnid3VH6"
      },
      "execution_count": null,
      "outputs": []
    },
    {
      "cell_type": "code",
      "source": [
        "sns.barplot(x=df[\"Spending Score (1-100)\"],y=df[\"Annual Income (k$)\"])"
      ],
      "metadata": {
        "colab": {
          "base_uri": "https://localhost:8080/",
          "height": 682
        },
        "id": "Rh2swfeY34oU",
        "outputId": "3a4f3062-1a28-43ef-efee-661cb6ae6e22"
      },
      "execution_count": null,
      "outputs": [
        {
          "output_type": "execute_result",
          "data": {
            "text/plain": [
              "<matplotlib.axes._subplots.AxesSubplot at 0x7f3e8e3f3ad0>"
            ]
          },
          "metadata": {},
          "execution_count": 8
        },
        {
          "output_type": "display_data",
          "data": {
            "text/plain": [
              "<Figure size 1584x792 with 1 Axes>"
            ],
            "image/png": "[encoded data removed]"
          },
          "metadata": {}
        }
      ]
    },
    {
      "cell_type": "markdown",
      "source": [
        "Multi-Variate Analysis"
      ],
      "metadata": {
        "id": "njhYcOAM4dPD"
      }
    },
    {
      "cell_type": "code",
      "source": [
        "sns.set(rc={'figure.figsize':(15,11)})\n",
        "sns.scatterplot(x='Annual Income (k$)',y='Spending Score (1-100)', data=df,palette='bright',hue='Gender');"
      ],
      "metadata": {
        "colab": {
          "base_uri": "https://localhost:8080/",
          "height": 665
        },
        "id": "K8l52UsU4eHz",
        "outputId": "c0384493-7e0a-43c1-9499-4a4c05384e8c"
      },
      "execution_count": null,
      "outputs": [
        {
          "output_type": "display_data",
          "data": {
            "text/plain": [
              "<Figure size 1080x792 with 1 Axes>"
            ],
            "image/png": "[encoded data removed]"
          },
          "metadata": {}
        }
      ]
    },
    {
      "cell_type": "markdown",
      "source": [
        "Perform descriptive statistics on the dataset.\n"
      ],
      "metadata": {
        "id": "MzzqCO1m5kdH"
      }
    },
    {
      "cell_type": "code",
      "source": [
        "df.sum()"
      ],
      "metadata": {
        "colab": {
          "base_uri": "https://localhost:8080/"
        },
        "id": "2qUDpEks5lSi",
        "outputId": "6f845f6a-7c46-445d-ba69-338fa6873388"
      },
      "execution_count": null,
      "outputs": [
        {
          "output_type": "execute_result",
          "data": {
            "text/plain": [
              "CustomerID                                                            20100\n",
              "Gender                    MaleMaleFemaleFemaleFemaleFemaleFemaleFemaleMa...\n",
              "Age                                                                    7770\n",
              "Annual Income (k$)                                                    12112\n",
              "Spending Score (1-100)                                                10040\n",
              "dtype: object"
            ]
          },
          "metadata": {},
          "execution_count": 10
        }
      ]
    },
    {
      "cell_type": "code",
      "source": [
        "df.mean()"
      ],
      "metadata": {
        "colab": {
          "base_uri": "https://localhost:8080/"
        },
        "id": "kjyw4a9E57Yy",
        "outputId": "53c8cb47-8768-4247-cc64-d2681043eb4e"
      },
      "execution_count": null,
      "outputs": [
        {
          "output_type": "execute_result",
          "data": {
            "text/plain": [
              "CustomerID                100.50\n",
              "Age                        38.85\n",
              "Annual Income (k$)         60.56\n",
              "Spending Score (1-100)     50.20\n",
              "dtype: float64"
            ]
          },
          "metadata": {},
          "execution_count": 11
        }
      ]
    },
    {
      "cell_type": "code",
      "source": [
        "df.median()"
      ],
      "metadata": {
        "colab": {
          "base_uri": "https://localhost:8080/"
        },
        "id": "vidWLFVe6Bs8",
        "outputId": "3f2c0445-b5bc-4077-8869-03848538c358"
      },
      "execution_count": null,
      "outputs": [
        {
          "output_type": "execute_result",
          "data": {
            "text/plain": [
              "CustomerID                100.5\n",
              "Age                        36.0\n",
              "Annual Income (k$)         61.5\n",
              "Spending Score (1-100)     50.0\n",
              "dtype: float64"
            ]
          },
          "metadata": {},
          "execution_count": 12
        }
      ]
    },
    {
      "cell_type": "code",
      "source": [
        "df.mode()"
      ],
      "metadata": {
        "colab": {
          "base_uri": "https://localhost:8080/",
          "height": 424
        },
        "id": "YAg_GR7t6DdP",
        "outputId": "f9457e9c-0845-4a67-c953-2d6369b54b0a"
      },
      "execution_count": null,
      "outputs": [
        {
          "output_type": "execute_result",
          "data": {
            "text/plain": [
              "     CustomerID  Gender   Age  Annual Income (k$)  Spending Score (1-100)\n",
              "0             1  Female  32.0                54.0                    42.0\n",
              "1             2     NaN   NaN                78.0                     NaN\n",
              "2             3     NaN   NaN                 NaN                     NaN\n",
              "3             4     NaN   NaN                 NaN                     NaN\n",
              "4             5     NaN   NaN                 NaN                     NaN\n",
              "..          ...     ...   ...                 ...                     ...\n",
              "195         196     NaN   NaN                 NaN                     NaN\n",
              "196         197     NaN   NaN                 NaN                     NaN\n",
              "197         198     NaN   NaN                 NaN                     NaN\n",
              "198         199     NaN   NaN                 NaN                     NaN\n",
              "199         200     NaN   NaN                 NaN                     NaN\n",
              "\n",
              "[200 rows x 5 columns]"
            ],
            "text/html": [
              "\n",
              "  <div id=\"df-acb988de-84da-429a-a898-cc32a89e1fa9\">\n",
              "    <div class=\"colab-df-container\">\n",
              "      <div>\n",
              "<style scoped>\n",
              "    .dataframe tbody tr th:only-of-type {\n",
              "        vertical-align: middle;\n",
              "    }\n",
              "\n",
              "    .dataframe tbody tr th {\n",
              "        vertical-align: top;\n",
              "    }\n",
              "\n",
              "    .dataframe thead th {\n",
              "        text-align: right;\n",
              "    }\n",
              "</style>\n",
              "<table border=\"1\" class=\"dataframe\">\n",
              "  <thead>\n",
              "    <tr style=\"text-align: right;\">\n",
              "      <th></th>\n",
              "      <th>CustomerID</th>\n",
              "      <th>Gender</th>\n",
              "      <th>Age</th>\n",
              "      <th>Annual Income (k$)</th>\n",
              "      <th>Spending Score (1-100)</th>\n",
              "    </tr>\n",
              "  </thead>\n",
              "  <tbody>\n",
              "    <tr>\n",
              "      <th>0</th>\n",
              "      <td>1</td>\n",
              "      <td>Female</td>\n",
              "      <td>32.0</td>\n",
              "      <td>54.0</td>\n",
              "      <td>42.0</td>\n",
              "    </tr>\n",
              "    <tr>\n",
              "      <th>1</th>\n",
              "      <td>2</td>\n",
              "      <td>NaN</td>\n",
              "      <td>NaN</td>\n",
              "      <td>78.0</td>\n",
              "      <td>NaN</td>\n",
              "    </tr>\n",
              "    <tr>\n",
              "      <th>2</th>\n",
              "      <td>3</td>\n",
              "      <td>NaN</td>\n",
              "      <td>NaN</td>\n",
              "      <td>NaN</td>\n",
              "      <td>NaN</td>\n",
              "    </tr>\n",
              "    <tr>\n",
              "      <th>3</th>\n",
              "      <td>4</td>\n",
              "      <td>NaN</td>\n",
              "      <td>NaN</td>\n",
              "      <td>NaN</td>\n",
              "      <td>NaN</td>\n",
              "    </tr>\n",
              "    <tr>\n",
              "      <th>4</th>\n",
              "      <td>5</td>\n",
              "      <td>NaN</td>\n",
              "      <td>NaN</td>\n",
              "      <td>NaN</td>\n",
              "      <td>NaN</td>\n",
              "    </tr>\n",
              "    <tr>\n",
              "      <th>...</th>\n",
              "      <td>...</td>\n",
              "      <td>...</td>\n",
              "      <td>...</td>\n",
              "      <td>...</td>\n",
              "      <td>...</td>\n",
              "    </tr>\n",
              "    <tr>\n",
              "      <th>195</th>\n",
              "      <td>196</td>\n",
              "      <td>NaN</td>\n",
              "      <td>NaN</td>\n",
              "      <td>NaN</td>\n",
              "      <td>NaN</td>\n",
              "    </tr>\n",
              "    <tr>\n",
              "      <th>196</th>\n",
              "      <td>197</td>\n",
              "      <td>NaN</td>\n",
              "      <td>NaN</td>\n",
              "      <td>NaN</td>\n",
              "      <td>NaN</td>\n",
              "    </tr>\n",
              "    <tr>\n",
              "      <th>197</th>\n",
              "      <td>198</td>\n",
              "      <td>NaN</td>\n",
              "      <td>NaN</td>\n",
              "      <td>NaN</td>\n",
              "      <td>NaN</td>\n",
              "    </tr>\n",
              "    <tr>\n",
              "      <th>198</th>\n",
              "      <td>199</td>\n",
              "      <td>NaN</td>\n",
              "      <td>NaN</td>\n",
              "      <td>NaN</td>\n",
              "      <td>NaN</td>\n",
              "    </tr>\n",
              "    <tr>\n",
              "      <th>199</th>\n",
              "      <td>200</td>\n",
              "      <td>NaN</td>\n",
              "      <td>NaN</td>\n",
              "      <td>NaN</td>\n",
              "      <td>NaN</td>\n",
              "    </tr>\n",
              "  </tbody>\n",
              "</table>\n",
              "<p>200 rows × 5 columns</p>\n",
              "</div>\n",
              "      <button class=\"colab-df-convert\" onclick=\"convertToInteractive('df-acb988de-84da-429a-a898-cc32a89e1fa9')\"\n",
              "              title=\"Convert this dataframe to an interactive table.\"\n",
              "              style=\"display:none;\">\n",
              "        \n",
              "  <svg xmlns=\"http://www.w3.org/2000/svg\" height=\"24px\"viewBox=\"0 0 24 24\"\n",
              "       width=\"24px\">\n",
              "    <path d=\"M0 0h24v24H0V0z\" fill=\"none\"/>\n",
              "    <path d=\"M18.56 5.44l.94 2.06.94-2.06 2.06-.94-2.06-.94-.94-2.06-.94 2.06-2.06.94zm-11 1L8.5 8.5l.94-2.06 2.06-.94-2.06-.94L8.5 2.5l-.94 2.06-2.06.94zm10 10l.94 2.06.94-2.06 2.06-.94-2.06-.94-.94-2.06-.94 2.06-2.06.94z\"/><path d=\"M17.41 7.96l-1.37-1.37c-.4-.4-.92-.59-1.43-.59-.52 0-1.04.2-1.43.59L10.3 9.45l-7.72 7.72c-.78.78-.78 2.05 0 2.83L4 21.41c.39.39.9.59 1.41.59.51 0 1.02-.2 1.41-.59l7.78-7.78 2.81-2.81c.8-.78.8-2.07 0-2.86zM5.41 20L4 18.59l7.72-7.72 1.47 1.35L5.41 20z\"/>\n",
              "  </svg>\n",
              "      </button>\n",
              "      \n",
              "  <style>\n",
              "    .colab-df-container {\n",
              "      display:flex;\n",
              "      flex-wrap:wrap;\n",
              "      gap: 12px;\n",
              "    }\n",
              "\n",
              "    .colab-df-convert {\n",
              "      background-color: #E8F0FE;\n",
              "      border: none;\n",
              "      border-radius: 50%;\n",
              "      cursor: pointer;\n",
              "      display: none;\n",
              "      fill: #1967D2;\n",
              "      height: 32px;\n",
              "      padding: 0 0 0 0;\n",
              "      width: 32px;\n",
              "    }\n",
              "\n",
              "    .colab-df-convert:hover {\n",
              "      background-color: #E2EBFA;\n",
              "      box-shadow: 0px 1px 2px rgba(60, 64, 67, 0.3), 0px 1px 3px 1px rgba(60, 64, 67, 0.15);\n",
              "      fill: #174EA6;\n",
              "    }\n",
              "\n",
              "    [theme=dark] .colab-df-convert {\n",
              "      background-color: #3B4455;\n",
              "      fill: #D2E3FC;\n",
              "    }\n",
              "\n",
              "    [theme=dark] .colab-df-convert:hover {\n",
              "      background-color: #434B5C;\n",
              "      box-shadow: 0px 1px 3px 1px rgba(0, 0, 0, 0.15);\n",
              "      filter: drop-shadow(0px 1px 2px rgba(0, 0, 0, 0.3));\n",
              "      fill: #FFFFFF;\n",
              "    }\n",
              "  </style>\n",
              "\n",
              "      <script>\n",
              "        const buttonEl =\n",
              "          document.querySelector('#df-acb988de-84da-429a-a898-cc32a89e1fa9 button.colab-df-convert');\n",
              "        buttonEl.style.display =\n",
              "          google.colab.kernel.accessAllowed ? 'block' : 'none';\n",
              "\n",
              "        async function convertToInteractive(key) {\n",
              "          const element = document.querySelector('#df-acb988de-84da-429a-a898-cc32a89e1fa9');\n",
              "          const dataTable =\n",
              "            await google.colab.kernel.invokeFunction('convertToInteractive',\n",
              "                                                     [key], {});\n",
              "          if (!dataTable) return;\n",
              "\n",
              "          const docLinkHtml = 'Like what you see? Visit the ' +\n",
              "            '<a target=\"_blank\" href=https://colab.research.google.com/notebooks/data_table.ipynb>data table notebook</a>'\n",
              "            + ' to learn more about interactive tables.';\n",
              "          element.innerHTML = '';\n",
              "          dataTable['output_type'] = 'display_data';\n",
              "          await google.colab.output.renderOutput(dataTable, element);\n",
              "          const docLink = document.createElement('div');\n",
              "          docLink.innerHTML = docLinkHtml;\n",
              "          element.appendChild(docLink);\n",
              "        }\n",
              "      </script>\n",
              "    </div>\n",
              "  </div>\n",
              "  "
            ]
          },
          "metadata": {},
          "execution_count": 13
        }
      ]
    },
    {
      "cell_type": "code",
      "source": [
        "df.std()"
      ],
      "metadata": {
        "colab": {
          "base_uri": "https://localhost:8080/"
        },
        "id": "7VsZca0j6HIJ",
        "outputId": "1abb088e-9791-4f56-fde2-523bed74760c"
      },
      "execution_count": null,
      "outputs": [
        {
          "output_type": "execute_result",
          "data": {
            "text/plain": [
              "CustomerID                57.879185\n",
              "Age                       13.969007\n",
              "Annual Income (k$)        26.264721\n",
              "Spending Score (1-100)    25.823522\n",
              "dtype: float64"
            ]
          },
          "metadata": {},
          "execution_count": 14
        }
      ]
    },
    {
      "cell_type": "code",
      "source": [
        "df.min()"
      ],
      "metadata": {
        "colab": {
          "base_uri": "https://localhost:8080/"
        },
        "id": "tcsbgTlw6MZ5",
        "outputId": "95e6c446-1ec8-404c-ab8a-9a2984685ff8"
      },
      "execution_count": null,
      "outputs": [
        {
          "output_type": "execute_result",
          "data": {
            "text/plain": [
              "CustomerID                     1\n",
              "Gender                    Female\n",
              "Age                           18\n",
              "Annual Income (k$)            15\n",
              "Spending Score (1-100)         1\n",
              "dtype: object"
            ]
          },
          "metadata": {},
          "execution_count": 15
        }
      ]
    },
    {
      "cell_type": "code",
      "source": [
        "df.max()"
      ],
      "metadata": {
        "colab": {
          "base_uri": "https://localhost:8080/"
        },
        "id": "4qvl2ev46PNE",
        "outputId": "2c4c8610-e1a2-4549-d5fc-eb4fcb601d79"
      },
      "execution_count": null,
      "outputs": [
        {
          "output_type": "execute_result",
          "data": {
            "text/plain": [
              "CustomerID                 200\n",
              "Gender                    Male\n",
              "Age                         70\n",
              "Annual Income (k$)         137\n",
              "Spending Score (1-100)      99\n",
              "dtype: object"
            ]
          },
          "metadata": {},
          "execution_count": 16
        }
      ]
    },
    {
      "cell_type": "code",
      "source": [
        "df.count()"
      ],
      "metadata": {
        "colab": {
          "base_uri": "https://localhost:8080/"
        },
        "id": "W3LvM2RF6SQp",
        "outputId": "583361d7-b847-487c-8a72-3b72a40ec3f3"
      },
      "execution_count": null,
      "outputs": [
        {
          "output_type": "execute_result",
          "data": {
            "text/plain": [
              "CustomerID                200\n",
              "Gender                    200\n",
              "Age                       200\n",
              "Annual Income (k$)        200\n",
              "Spending Score (1-100)    200\n",
              "dtype: int64"
            ]
          },
          "metadata": {},
          "execution_count": 17
        }
      ]
    },
    {
      "cell_type": "markdown",
      "source": [
        "Check for Missing values and deal with them.\n"
      ],
      "metadata": {
        "id": "sFq9trX56cwQ"
      }
    },
    {
      "cell_type": "code",
      "source": [
        "df.isnull().sum()"
      ],
      "metadata": {
        "colab": {
          "base_uri": "https://localhost:8080/"
        },
        "id": "5j1prLQT6dfp",
        "outputId": "15fbf8b0-58a1-4ad7-a378-6d1530747a1c"
      },
      "execution_count": null,
      "outputs": [
        {
          "output_type": "execute_result",
          "data": {
            "text/plain": [
              "CustomerID                0\n",
              "Gender                    0\n",
              "Age                       0\n",
              "Annual Income (k$)        0\n",
              "Spending Score (1-100)    0\n",
              "dtype: int64"
            ]
          },
          "metadata": {},
          "execution_count": 18
        }
      ]
    },
    {
      "cell_type": "markdown",
      "source": [
        "Find the outliers and replace them outliers"
      ],
      "metadata": {
        "id": "eaVDcX8g6qPw"
      }
    },
    {
      "cell_type": "code",
      "source": [
        "sorted(df[\"Annual Income (k$)\"])"
      ],
      "metadata": {
        "colab": {
          "base_uri": "https://localhost:8080/"
        },
        "id": "Jaai7it16r2Z",
        "outputId": "5abc1f65-faaf-4b05-b221-37a4b1c59d18"
      },
      "execution_count": null,
      "outputs": [
        {
          "output_type": "execute_result",
          "data": {
            "text/plain": [
              "[15,\n",
              " 15,\n",
              " 16,\n",
              " 16,\n",
              " 17,\n",
              " 17,\n",
              " 18,\n",
              " 18,\n",
              " 19,\n",
              " 19,\n",
              " 19,\n",
              " 19,\n",
              " 20,\n",
              " 20,\n",
              " 20,\n",
              " 20,\n",
              " 21,\n",
              " 21,\n",
              " 23,\n",
              " 23,\n",
              " 24,\n",
              " 24,\n",
              " 25,\n",
              " 25,\n",
              " 28,\n",
              " 28,\n",
              " 28,\n",
              " 28,\n",
              " 29,\n",
              " 29,\n",
              " 30,\n",
              " 30,\n",
              " 33,\n",
              " 33,\n",
              " 33,\n",
              " 33,\n",
              " 34,\n",
              " 34,\n",
              " 37,\n",
              " 37,\n",
              " 38,\n",
              " 38,\n",
              " 39,\n",
              " 39,\n",
              " 39,\n",
              " 39,\n",
              " 40,\n",
              " 40,\n",
              " 40,\n",
              " 40,\n",
              " 42,\n",
              " 42,\n",
              " 43,\n",
              " 43,\n",
              " 43,\n",
              " 43,\n",
              " 44,\n",
              " 44,\n",
              " 46,\n",
              " 46,\n",
              " 46,\n",
              " 46,\n",
              " 47,\n",
              " 47,\n",
              " 48,\n",
              " 48,\n",
              " 48,\n",
              " 48,\n",
              " 48,\n",
              " 48,\n",
              " 49,\n",
              " 49,\n",
              " 50,\n",
              " 50,\n",
              " 54,\n",
              " 54,\n",
              " 54,\n",
              " 54,\n",
              " 54,\n",
              " 54,\n",
              " 54,\n",
              " 54,\n",
              " 54,\n",
              " 54,\n",
              " 54,\n",
              " 54,\n",
              " 57,\n",
              " 57,\n",
              " 58,\n",
              " 58,\n",
              " 59,\n",
              " 59,\n",
              " 60,\n",
              " 60,\n",
              " 60,\n",
              " 60,\n",
              " 60,\n",
              " 60,\n",
              " 61,\n",
              " 61,\n",
              " 62,\n",
              " 62,\n",
              " 62,\n",
              " 62,\n",
              " 62,\n",
              " 62,\n",
              " 63,\n",
              " 63,\n",
              " 63,\n",
              " 63,\n",
              " 63,\n",
              " 63,\n",
              " 64,\n",
              " 64,\n",
              " 65,\n",
              " 65,\n",
              " 65,\n",
              " 65,\n",
              " 67,\n",
              " 67,\n",
              " 67,\n",
              " 67,\n",
              " 69,\n",
              " 69,\n",
              " 70,\n",
              " 70,\n",
              " 71,\n",
              " 71,\n",
              " 71,\n",
              " 71,\n",
              " 71,\n",
              " 71,\n",
              " 72,\n",
              " 72,\n",
              " 73,\n",
              " 73,\n",
              " 73,\n",
              " 73,\n",
              " 74,\n",
              " 74,\n",
              " 75,\n",
              " 75,\n",
              " 76,\n",
              " 76,\n",
              " 77,\n",
              " 77,\n",
              " 77,\n",
              " 77,\n",
              " 78,\n",
              " 78,\n",
              " 78,\n",
              " 78,\n",
              " 78,\n",
              " 78,\n",
              " 78,\n",
              " 78,\n",
              " 78,\n",
              " 78,\n",
              " 78,\n",
              " 78,\n",
              " 79,\n",
              " 79,\n",
              " 81,\n",
              " 81,\n",
              " 85,\n",
              " 85,\n",
              " 86,\n",
              " 86,\n",
              " 87,\n",
              " 87,\n",
              " 87,\n",
              " 87,\n",
              " 87,\n",
              " 87,\n",
              " 88,\n",
              " 88,\n",
              " 88,\n",
              " 88,\n",
              " 93,\n",
              " 93,\n",
              " 97,\n",
              " 97,\n",
              " 98,\n",
              " 98,\n",
              " 99,\n",
              " 99,\n",
              " 101,\n",
              " 101,\n",
              " 103,\n",
              " 103,\n",
              " 103,\n",
              " 103,\n",
              " 113,\n",
              " 113,\n",
              " 120,\n",
              " 120,\n",
              " 126,\n",
              " 126,\n",
              " 137,\n",
              " 137]"
            ]
          },
          "metadata": {},
          "execution_count": 19
        }
      ]
    },
    {
      "cell_type": "code",
      "source": [
        "quantile1,quantile3=np.percentile(df[\"Annual Income (k$)\"],[25,75])\n",
        "print(quantile1,quantile3)"
      ],
      "metadata": {
        "colab": {
          "base_uri": "https://localhost:8080/"
        },
        "id": "tWMj4YZd7VZz",
        "outputId": "38498d00-3d79-4dc1-ee93-fb233f5ef180"
      },
      "execution_count": null,
      "outputs": [
        {
          "output_type": "stream",
          "name": "stdout",
          "text": [
            "41.5 78.0\n"
          ]
        }
      ]
    },
    {
      "cell_type": "code",
      "source": [
        "iqr=quantile3-quantile1\n",
        "lower_bound=quantile1-(1.5*iqr)\n",
        "upper_bound=quantile3+(1.5*iqr)"
      ],
      "metadata": {
        "id": "r_yF_vSi7hCj"
      },
      "execution_count": null,
      "outputs": []
    },
    {
      "cell_type": "code",
      "source": [
        "print(lower_bound,upper_bound)"
      ],
      "metadata": {
        "colab": {
          "base_uri": "https://localhost:8080/"
        },
        "id": "6RGqyakl7idd",
        "outputId": "125dd2b2-1850-4656-9f59-6d1fd211a89c"
      },
      "execution_count": null,
      "outputs": [
        {
          "output_type": "stream",
          "name": "stdout",
          "text": [
            "-13.25 132.75\n"
          ]
        }
      ]
    },
    {
      "cell_type": "markdown",
      "source": [
        "Check for Categorical columns and perform encoding"
      ],
      "metadata": {
        "id": "VsvS8Sqw7wBb"
      }
    },
    {
      "cell_type": "code",
      "source": [
        "df.dtypes"
      ],
      "metadata": {
        "colab": {
          "base_uri": "https://localhost:8080/"
        },
        "id": "7YH2DWQI7wqA",
        "outputId": "a638cbdb-7c0c-4232-9cc3-80559dcf59d8"
      },
      "execution_count": null,
      "outputs": [
        {
          "output_type": "execute_result",
          "data": {
            "text/plain": [
              "CustomerID                 int64\n",
              "Gender                    object\n",
              "Age                        int64\n",
              "Annual Income (k$)         int64\n",
              "Spending Score (1-100)     int64\n",
              "dtype: object"
            ]
          },
          "metadata": {},
          "execution_count": 25
        }
      ]
    },
    {
      "cell_type": "code",
      "source": [
        "df[\"Gender\"].replace({\"Female\":0,\"Male\":1},inplace = True)"
      ],
      "metadata": {
        "id": "vmJhFQAS75ii"
      },
      "execution_count": null,
      "outputs": []
    },
    {
      "cell_type": "code",
      "source": [
        "df.tail(10)"
      ],
      "metadata": {
        "colab": {
          "base_uri": "https://localhost:8080/",
          "height": 363
        },
        "id": "bCcx0Qe48afG",
        "outputId": "d62c9796-9f88-4070-cc94-5b254d1188ca"
      },
      "execution_count": null,
      "outputs": [
        {
          "output_type": "execute_result",
          "data": {
            "text/plain": [
              "     CustomerID  Gender  Age  Annual Income (k$)  Spending Score (1-100)\n",
              "190         191       0   34                 103                      23\n",
              "191         192       0   32                 103                      69\n",
              "192         193       1   33                 113                       8\n",
              "193         194       0   38                 113                      91\n",
              "194         195       0   47                 120                      16\n",
              "195         196       0   35                 120                      79\n",
              "196         197       0   45                 126                      28\n",
              "197         198       1   32                 126                      74\n",
              "198         199       1   32                 137                      18\n",
              "199         200       1   30                 137                      83"
            ],
            "text/html": [
              "\n",
              "  <div id=\"df-7c82af09-e27e-4fe3-93ab-41411d2e462a\">\n",
              "    <div class=\"colab-df-container\">\n",
              "      <div>\n",
              "<style scoped>\n",
              "    .dataframe tbody tr th:only-of-type {\n",
              "        vertical-align: middle;\n",
              "    }\n",
              "\n",
              "    .dataframe tbody tr th {\n",
              "        vertical-align: top;\n",
              "    }\n",
              "\n",
              "    .dataframe thead th {\n",
              "        text-align: right;\n",
              "    }\n",
              "</style>\n",
              "<table border=\"1\" class=\"dataframe\">\n",
              "  <thead>\n",
              "    <tr style=\"text-align: right;\">\n",
              "      <th></th>\n",
              "      <th>CustomerID</th>\n",
              "      <th>Gender</th>\n",
              "      <th>Age</th>\n",
              "      <th>Annual Income (k$)</th>\n",
              "      <th>Spending Score (1-100)</th>\n",
              "    </tr>\n",
              "  </thead>\n",
              "  <tbody>\n",
              "    <tr>\n",
              "      <th>190</th>\n",
              "      <td>191</td>\n",
              "      <td>0</td>\n",
              "      <td>34</td>\n",
              "      <td>103</td>\n",
              "      <td>23</td>\n",
              "    </tr>\n",
              "    <tr>\n",
              "      <th>191</th>\n",
              "      <td>192</td>\n",
              "      <td>0</td>\n",
              "      <td>32</td>\n",
              "      <td>103</td>\n",
              "      <td>69</td>\n",
              "    </tr>\n",
              "    <tr>\n",
              "      <th>192</th>\n",
              "      <td>193</td>\n",
              "      <td>1</td>\n",
              "      <td>33</td>\n",
              "      <td>113</td>\n",
              "      <td>8</td>\n",
              "    </tr>\n",
              "    <tr>\n",
              "      <th>193</th>\n",
              "      <td>194</td>\n",
              "      <td>0</td>\n",
              "      <td>38</td>\n",
              "      <td>113</td>\n",
              "      <td>91</td>\n",
              "    </tr>\n",
              "    <tr>\n",
              "      <th>194</th>\n",
              "      <td>195</td>\n",
              "      <td>0</td>\n",
              "      <td>47</td>\n",
              "      <td>120</td>\n",
              "      <td>16</td>\n",
              "    </tr>\n",
              "    <tr>\n",
              "      <th>195</th>\n",
              "      <td>196</td>\n",
              "      <td>0</td>\n",
              "      <td>35</td>\n",
              "      <td>120</td>\n",
              "      <td>79</td>\n",
              "    </tr>\n",
              "    <tr>\n",
              "      <th>196</th>\n",
              "      <td>197</td>\n",
              "      <td>0</td>\n",
              "      <td>45</td>\n",
              "      <td>126</td>\n",
              "      <td>28</td>\n",
              "    </tr>\n",
              "    <tr>\n",
              "      <th>197</th>\n",
              "      <td>198</td>\n",
              "      <td>1</td>\n",
              "      <td>32</td>\n",
              "      <td>126</td>\n",
              "      <td>74</td>\n",
              "    </tr>\n",
              "    <tr>\n",
              "      <th>198</th>\n",
              "      <td>199</td>\n",
              "      <td>1</td>\n",
              "      <td>32</td>\n",
              "      <td>137</td>\n",
              "      <td>18</td>\n",
              "    </tr>\n",
              "    <tr>\n",
              "      <th>199</th>\n",
              "      <td>200</td>\n",
              "      <td>1</td>\n",
              "      <td>30</td>\n",
              "      <td>137</td>\n",
              "      <td>83</td>\n",
              "    </tr>\n",
              "  </tbody>\n",
              "</table>\n",
              "</div>\n",
              "      <button class=\"colab-df-convert\" onclick=\"convertToInteractive('df-7c82af09-e27e-4fe3-93ab-41411d2e462a')\"\n",
              "              title=\"Convert this dataframe to an interactive table.\"\n",
              "              style=\"display:none;\">\n",
              "        \n",
              "  <svg xmlns=\"http://www.w3.org/2000/svg\" height=\"24px\"viewBox=\"0 0 24 24\"\n",
              "       width=\"24px\">\n",
              "    <path d=\"M0 0h24v24H0V0z\" fill=\"none\"/>\n",
              "    <path d=\"M18.56 5.44l.94 2.06.94-2.06 2.06-.94-2.06-.94-.94-2.06-.94 2.06-2.06.94zm-11 1L8.5 8.5l.94-2.06 2.06-.94-2.06-.94L8.5 2.5l-.94 2.06-2.06.94zm10 10l.94 2.06.94-2.06 2.06-.94-2.06-.94-.94-2.06-.94 2.06-2.06.94z\"/><path d=\"M17.41 7.96l-1.37-1.37c-.4-.4-.92-.59-1.43-.59-.52 0-1.04.2-1.43.59L10.3 9.45l-7.72 7.72c-.78.78-.78 2.05 0 2.83L4 21.41c.39.39.9.59 1.41.59.51 0 1.02-.2 1.41-.59l7.78-7.78 2.81-2.81c.8-.78.8-2.07 0-2.86zM5.41 20L4 18.59l7.72-7.72 1.47 1.35L5.41 20z\"/>\n",
              "  </svg>\n",
              "      </button>\n",
              "      \n",
              "  <style>\n",
              "    .colab-df-container {\n",
              "      display:flex;\n",
              "      flex-wrap:wrap;\n",
              "      gap: 12px;\n",
              "    }\n",
              "\n",
              "    .colab-df-convert {\n",
              "      background-color: #E8F0FE;\n",
              "      border: none;\n",
              "      border-radius: 50%;\n",
              "      cursor: pointer;\n",
              "      display: none;\n",
              "      fill: #1967D2;\n",
              "      height: 32px;\n",
              "      padding: 0 0 0 0;\n",
              "      width: 32px;\n",
              "    }\n",
              "\n",
              "    .colab-df-convert:hover {\n",
              "      background-color: #E2EBFA;\n",
              "      box-shadow: 0px 1px 2px rgba(60, 64, 67, 0.3), 0px 1px 3px 1px rgba(60, 64, 67, 0.15);\n",
              "      fill: #174EA6;\n",
              "    }\n",
              "\n",
              "    [theme=dark] .colab-df-convert {\n",
              "      background-color: #3B4455;\n",
              "      fill: #D2E3FC;\n",
              "    }\n",
              "\n",
              "    [theme=dark] .colab-df-convert:hover {\n",
              "      background-color: #434B5C;\n",
              "      box-shadow: 0px 1px 3px 1px rgba(0, 0, 0, 0.15);\n",
              "      filter: drop-shadow(0px 1px 2px rgba(0, 0, 0, 0.3));\n",
              "      fill: #FFFFFF;\n",
              "    }\n",
              "  </style>\n",
              "\n",
              "      <script>\n",
              "        const buttonEl =\n",
              "          document.querySelector('#df-7c82af09-e27e-4fe3-93ab-41411d2e462a button.colab-df-convert');\n",
              "        buttonEl.style.display =\n",
              "          google.colab.kernel.accessAllowed ? 'block' : 'none';\n",
              "\n",
              "        async function convertToInteractive(key) {\n",
              "          const element = document.querySelector('#df-7c82af09-e27e-4fe3-93ab-41411d2e462a');\n",
              "          const dataTable =\n",
              "            await google.colab.kernel.invokeFunction('convertToInteractive',\n",
              "                                                     [key], {});\n",
              "          if (!dataTable) return;\n",
              "\n",
              "          const docLinkHtml = 'Like what you see? Visit the ' +\n",
              "            '<a target=\"_blank\" href=https://colab.research.google.com/notebooks/data_table.ipynb>data table notebook</a>'\n",
              "            + ' to learn more about interactive tables.';\n",
              "          element.innerHTML = '';\n",
              "          dataTable['output_type'] = 'display_data';\n",
              "          await google.colab.output.renderOutput(dataTable, element);\n",
              "          const docLink = document.createElement('div');\n",
              "          docLink.innerHTML = docLinkHtml;\n",
              "          element.appendChild(docLink);\n",
              "        }\n",
              "      </script>\n",
              "    </div>\n",
              "  </div>\n",
              "  "
            ]
          },
          "metadata": {},
          "execution_count": 30
        }
      ]
    },
    {
      "cell_type": "code",
      "source": [
        "sns.set(rc={'figure.figsize':(15,11)})\n",
        "sns.boxplot(x=df[\"Annual Income (k$)\"])"
      ],
      "metadata": {
        "colab": {
          "base_uri": "https://localhost:8080/",
          "height": 682
        },
        "id": "Z1nJY0SJ7q4z",
        "outputId": "dbccacbe-8606-47f6-92ec-87d7c64c4bae"
      },
      "execution_count": null,
      "outputs": [
        {
          "output_type": "execute_result",
          "data": {
            "text/plain": [
              "<matplotlib.axes._subplots.AxesSubplot at 0x7f3e8c89e950>"
            ]
          },
          "metadata": {},
          "execution_count": 24
        },
        {
          "output_type": "display_data",
          "data": {
            "text/plain": [
              "<Figure size 1080x792 with 1 Axes>"
            ],
            "image/png": "[encoded data removed]"
          },
          "metadata": {}
        }
      ]
    },
    {
      "cell_type": "markdown",
      "source": [
        " Scaling the data"
      ],
      "metadata": {
        "id": "Kq0U3eE28epR"
      }
    },
    {
      "cell_type": "code",
      "source": [
        "from sklearn.preprocessing import StandardScaler\n",
        "std_scaler = StandardScaler()\n",
        "df_scaled = std_scaler.fit_transform(df.to_numpy())\n",
        "df_scaled = pd.DataFrame(df_scaled)\n",
        "df_scaled.head()"
      ],
      "metadata": {
        "colab": {
          "base_uri": "https://localhost:8080/",
          "height": 206
        },
        "id": "lpWfGMxl8fXq",
        "outputId": "77022bcc-d419-4d0d-c347-9cbd84a00ef3"
      },
      "execution_count": null,
      "outputs": [
        {
          "output_type": "execute_result",
          "data": {
            "text/plain": [
              "          0         1         2         3         4\n",
              "0 -1.723412  1.128152 -1.424569 -1.738999 -0.434801\n",
              "1 -1.706091  1.128152 -1.281035 -1.738999  1.195704\n",
              "2 -1.688771 -0.886405 -1.352802 -1.700830 -1.715913\n",
              "3 -1.671450 -0.886405 -1.137502 -1.700830  1.040418\n",
              "4 -1.654129 -0.886405 -0.563369 -1.662660 -0.395980"
            ],
            "text/html": [
              "\n",
              "  <div id=\"df-129896c6-1cc1-4bf2-969e-d2a9e0b5c8b9\">\n",
              "    <div class=\"colab-df-container\">\n",
              "      <div>\n",
              "<style scoped>\n",
              "    .dataframe tbody tr th:only-of-type {\n",
              "        vertical-align: middle;\n",
              "    }\n",
              "\n",
              "    .dataframe tbody tr th {\n",
              "        vertical-align: top;\n",
              "    }\n",
              "\n",
              "    .dataframe thead th {\n",
              "        text-align: right;\n",
              "    }\n",
              "</style>\n",
              "<table border=\"1\" class=\"dataframe\">\n",
              "  <thead>\n",
              "    <tr style=\"text-align: right;\">\n",
              "      <th></th>\n",
              "      <th>0</th>\n",
              "      <th>1</th>\n",
              "      <th>2</th>\n",
              "      <th>3</th>\n",
              "      <th>4</th>\n",
              "    </tr>\n",
              "  </thead>\n",
              "  <tbody>\n",
              "    <tr>\n",
              "      <th>0</th>\n",
              "      <td>-1.723412</td>\n",
              "      <td>1.128152</td>\n",
              "      <td>-1.424569</td>\n",
              "      <td>-1.738999</td>\n",
              "      <td>-0.434801</td>\n",
              "    </tr>\n",
              "    <tr>\n",
              "      <th>1</th>\n",
              "      <td>-1.706091</td>\n",
              "      <td>1.128152</td>\n",
              "      <td>-1.281035</td>\n",
              "      <td>-1.738999</td>\n",
              "      <td>1.195704</td>\n",
              "    </tr>\n",
              "    <tr>\n",
              "      <th>2</th>\n",
              "      <td>-1.688771</td>\n",
              "      <td>-0.886405</td>\n",
              "      <td>-1.352802</td>\n",
              "      <td>-1.700830</td>\n",
              "      <td>-1.715913</td>\n",
              "    </tr>\n",
              "    <tr>\n",
              "      <th>3</th>\n",
              "      <td>-1.671450</td>\n",
              "      <td>-0.886405</td>\n",
              "      <td>-1.137502</td>\n",
              "      <td>-1.700830</td>\n",
              "      <td>1.040418</td>\n",
              "    </tr>\n",
              "    <tr>\n",
              "      <th>4</th>\n",
              "      <td>-1.654129</td>\n",
              "      <td>-0.886405</td>\n",
              "      <td>-0.563369</td>\n",
              "      <td>-1.662660</td>\n",
              "      <td>-0.395980</td>\n",
              "    </tr>\n",
              "  </tbody>\n",
              "</table>\n",
              "</div>\n",
              "      <button class=\"colab-df-convert\" onclick=\"convertToInteractive('df-129896c6-1cc1-4bf2-969e-d2a9e0b5c8b9')\"\n",
              "              title=\"Convert this dataframe to an interactive table.\"\n",
              "              style=\"display:none;\">\n",
              "        \n",
              "  <svg xmlns=\"http://www.w3.org/2000/svg\" height=\"24px\"viewBox=\"0 0 24 24\"\n",
              "       width=\"24px\">\n",
              "    <path d=\"M0 0h24v24H0V0z\" fill=\"none\"/>\n",
              "    <path d=\"M18.56 5.44l.94 2.06.94-2.06 2.06-.94-2.06-.94-.94-2.06-.94 2.06-2.06.94zm-11 1L8.5 8.5l.94-2.06 2.06-.94-2.06-.94L8.5 2.5l-.94 2.06-2.06.94zm10 10l.94 2.06.94-2.06 2.06-.94-2.06-.94-.94-2.06-.94 2.06-2.06.94z\"/><path d=\"M17.41 7.96l-1.37-1.37c-.4-.4-.92-.59-1.43-.59-.52 0-1.04.2-1.43.59L10.3 9.45l-7.72 7.72c-.78.78-.78 2.05 0 2.83L4 21.41c.39.39.9.59 1.41.59.51 0 1.02-.2 1.41-.59l7.78-7.78 2.81-2.81c.8-.78.8-2.07 0-2.86zM5.41 20L4 18.59l7.72-7.72 1.47 1.35L5.41 20z\"/>\n",
              "  </svg>\n",
              "      </button>\n",
              "      \n",
              "  <style>\n",
              "    .colab-df-container {\n",
              "      display:flex;\n",
              "      flex-wrap:wrap;\n",
              "      gap: 12px;\n",
              "    }\n",
              "\n",
              "    .colab-df-convert {\n",
              "      background-color: #E8F0FE;\n",
              "      border: none;\n",
              "      border-radius: 50%;\n",
              "      cursor: pointer;\n",
              "      display: none;\n",
              "      fill: #1967D2;\n",
              "      height: 32px;\n",
              "      padding: 0 0 0 0;\n",
              "      width: 32px;\n",
              "    }\n",
              "\n",
              "    .colab-df-convert:hover {\n",
              "      background-color: #E2EBFA;\n",
              "      box-shadow: 0px 1px 2px rgba(60, 64, 67, 0.3), 0px 1px 3px 1px rgba(60, 64, 67, 0.15);\n",
              "      fill: #174EA6;\n",
              "    }\n",
              "\n",
              "    [theme=dark] .colab-df-convert {\n",
              "      background-color: #3B4455;\n",
              "      fill: #D2E3FC;\n",
              "    }\n",
              "\n",
              "    [theme=dark] .colab-df-convert:hover {\n",
              "      background-color: #434B5C;\n",
              "      box-shadow: 0px 1px 3px 1px rgba(0, 0, 0, 0.15);\n",
              "      filter: drop-shadow(0px 1px 2px rgba(0, 0, 0, 0.3));\n",
              "      fill: #FFFFFF;\n",
              "    }\n",
              "  </style>\n",
              "\n",
              "      <script>\n",
              "        const buttonEl =\n",
              "          document.querySelector('#df-129896c6-1cc1-4bf2-969e-d2a9e0b5c8b9 button.colab-df-convert');\n",
              "        buttonEl.style.display =\n",
              "          google.colab.kernel.accessAllowed ? 'block' : 'none';\n",
              "\n",
              "        async function convertToInteractive(key) {\n",
              "          const element = document.querySelector('#df-129896c6-1cc1-4bf2-969e-d2a9e0b5c8b9');\n",
              "          const dataTable =\n",
              "            await google.colab.kernel.invokeFunction('convertToInteractive',\n",
              "                                                     [key], {});\n",
              "          if (!dataTable) return;\n",
              "\n",
              "          const docLinkHtml = 'Like what you see? Visit the ' +\n",
              "            '<a target=\"_blank\" href=https://colab.research.google.com/notebooks/data_table.ipynb>data table notebook</a>'\n",
              "            + ' to learn more about interactive tables.';\n",
              "          element.innerHTML = '';\n",
              "          dataTable['output_type'] = 'display_data';\n",
              "          await google.colab.output.renderOutput(dataTable, element);\n",
              "          const docLink = document.createElement('div');\n",
              "          docLink.innerHTML = docLinkHtml;\n",
              "          element.appendChild(docLink);\n",
              "        }\n",
              "      </script>\n",
              "    </div>\n",
              "  </div>\n",
              "  "
            ]
          },
          "metadata": {},
          "execution_count": 31
        }
      ]
    },
    {
      "cell_type": "markdown",
      "source": [
        "Perform any of the clustering algorithms"
      ],
      "metadata": {
        "id": "ZnkXJ92c_8ai"
      }
    },
    {
      "cell_type": "code",
      "source": [
        "from sklearn.cluster import KMeans\n",
        "kmeans = KMeans(n_clusters=3).fit(df)\n",
        "centroids = kmeans.cluster_centers_\n"
      ],
      "metadata": {
        "id": "1ZgHk2BpAAEx"
      },
      "execution_count": null,
      "outputs": []
    },
    {
      "cell_type": "code",
      "source": [
        "print(centroids)"
      ],
      "metadata": {
        "colab": {
          "base_uri": "https://localhost:8080/"
        },
        "id": "Pp-UAYXVAzer",
        "outputId": "2881fbbc-f1bd-4056-fa1b-4779ebb94b2a"
      },
      "execution_count": null,
      "outputs": [
        {
          "output_type": "stream",
          "name": "stdout",
          "text": [
            "[[166.5          0.45588235  36.04411765  88.91176471  50.20588235]\n",
            " [ 31.5          0.40322581  37.4516129   30.61290323  49.83870968]\n",
            " [ 97.5          0.45714286  42.81428571  59.54285714  50.51428571]]\n"
          ]
        }
      ]
    },
    {
      "cell_type": "markdown",
      "source": [
        " Split the data into dependent and independent variables"
      ],
      "metadata": {
        "id": "8mkBcti6BANk"
      }
    },
    {
      "cell_type": "code",
      "source": [
        "x= df.iloc[:,:-1].values\n",
        "y= df.iloc[:,3].values"
      ],
      "metadata": {
        "id": "ORb_ZKgIBCql"
      },
      "execution_count": null,
      "outputs": []
    },
    {
      "cell_type": "code",
      "source": [
        "print(x)"
      ],
      "metadata": {
        "colab": {
          "base_uri": "https://localhost:8080/"
        },
        "id": "sAzc6BJHBk0j",
        "outputId": "b4fdc36d-34bc-4189-e4b3-6e49a43e10bf"
      },
      "execution_count": null,
      "outputs": [
        {
          "output_type": "stream",
          "name": "stdout",
          "text": [
            "[[  1   1  19  15]\n",
            " [  2   1  21  15]\n",
            " [  3   0  20  16]\n",
            " [  4   0  23  16]\n",
            " [  5   0  31  17]\n",
            " [  6   0  22  17]\n",
            " [  7   0  35  18]\n",
            " [  8   0  23  18]\n",
            " [  9   1  64  19]\n",
            " [ 10   0  30  19]\n",
            " [ 11   1  67  19]\n",
            " [ 12   0  35  19]\n",
            " [ 13   0  58  20]\n",
            " [ 14   0  24  20]\n",
            " [ 15   1  37  20]\n",
            " [ 16   1  22  20]\n",
            " [ 17   0  35  21]\n",
            " [ 18   1  20  21]\n",
            " [ 19   1  52  23]\n",
            " [ 20   0  35  23]\n",
            " [ 21   1  35  24]\n",
            " [ 22   1  25  24]\n",
            " [ 23   0  46  25]\n",
            " [ 24   1  31  25]\n",
            " [ 25   0  54  28]\n",
            " [ 26   1  29  28]\n",
            " [ 27   0  45  28]\n",
            " [ 28   1  35  28]\n",
            " [ 29   0  40  29]\n",
            " [ 30   0  23  29]\n",
            " [ 31   1  60  30]\n",
            " [ 32   0  21  30]\n",
            " [ 33   1  53  33]\n",
            " [ 34   1  18  33]\n",
            " [ 35   0  49  33]\n",
            " [ 36   0  21  33]\n",
            " [ 37   0  42  34]\n",
            " [ 38   0  30  34]\n",
            " [ 39   0  36  37]\n",
            " [ 40   0  20  37]\n",
            " [ 41   0  65  38]\n",
            " [ 42   1  24  38]\n",
            " [ 43   1  48  39]\n",
            " [ 44   0  31  39]\n",
            " [ 45   0  49  39]\n",
            " [ 46   0  24  39]\n",
            " [ 47   0  50  40]\n",
            " [ 48   0  27  40]\n",
            " [ 49   0  29  40]\n",
            " [ 50   0  31  40]\n",
            " [ 51   0  49  42]\n",
            " [ 52   1  33  42]\n",
            " [ 53   0  31  43]\n",
            " [ 54   1  59  43]\n",
            " [ 55   0  50  43]\n",
            " [ 56   1  47  43]\n",
            " [ 57   0  51  44]\n",
            " [ 58   1  69  44]\n",
            " [ 59   0  27  46]\n",
            " [ 60   1  53  46]\n",
            " [ 61   1  70  46]\n",
            " [ 62   1  19  46]\n",
            " [ 63   0  67  47]\n",
            " [ 64   0  54  47]\n",
            " [ 65   1  63  48]\n",
            " [ 66   1  18  48]\n",
            " [ 67   0  43  48]\n",
            " [ 68   0  68  48]\n",
            " [ 69   1  19  48]\n",
            " [ 70   0  32  48]\n",
            " [ 71   1  70  49]\n",
            " [ 72   0  47  49]\n",
            " [ 73   0  60  50]\n",
            " [ 74   0  60  50]\n",
            " [ 75   1  59  54]\n",
            " [ 76   1  26  54]\n",
            " [ 77   0  45  54]\n",
            " [ 78   1  40  54]\n",
            " [ 79   0  23  54]\n",
            " [ 80   0  49  54]\n",
            " [ 81   1  57  54]\n",
            " [ 82   1  38  54]\n",
            " [ 83   1  67  54]\n",
            " [ 84   0  46  54]\n",
            " [ 85   0  21  54]\n",
            " [ 86   1  48  54]\n",
            " [ 87   0  55  57]\n",
            " [ 88   0  22  57]\n",
            " [ 89   0  34  58]\n",
            " [ 90   0  50  58]\n",
            " [ 91   0  68  59]\n",
            " [ 92   1  18  59]\n",
            " [ 93   1  48  60]\n",
            " [ 94   0  40  60]\n",
            " [ 95   0  32  60]\n",
            " [ 96   1  24  60]\n",
            " [ 97   0  47  60]\n",
            " [ 98   0  27  60]\n",
            " [ 99   1  48  61]\n",
            " [100   1  20  61]\n",
            " [101   0  23  62]\n",
            " [102   0  49  62]\n",
            " [103   1  67  62]\n",
            " [104   1  26  62]\n",
            " [105   1  49  62]\n",
            " [106   0  21  62]\n",
            " [107   0  66  63]\n",
            " [108   1  54  63]\n",
            " [109   1  68  63]\n",
            " [110   1  66  63]\n",
            " [111   1  65  63]\n",
            " [112   0  19  63]\n",
            " [113   0  38  64]\n",
            " [114   1  19  64]\n",
            " [115   0  18  65]\n",
            " [116   0  19  65]\n",
            " [117   0  63  65]\n",
            " [118   0  49  65]\n",
            " [119   0  51  67]\n",
            " [120   0  50  67]\n",
            " [121   1  27  67]\n",
            " [122   0  38  67]\n",
            " [123   0  40  69]\n",
            " [124   1  39  69]\n",
            " [125   0  23  70]\n",
            " [126   0  31  70]\n",
            " [127   1  43  71]\n",
            " [128   1  40  71]\n",
            " [129   1  59  71]\n",
            " [130   1  38  71]\n",
            " [131   1  47  71]\n",
            " [132   1  39  71]\n",
            " [133   0  25  72]\n",
            " [134   0  31  72]\n",
            " [135   1  20  73]\n",
            " [136   0  29  73]\n",
            " [137   0  44  73]\n",
            " [138   1  32  73]\n",
            " [139   1  19  74]\n",
            " [140   0  35  74]\n",
            " [141   0  57  75]\n",
            " [142   1  32  75]\n",
            " [143   0  28  76]\n",
            " [144   0  32  76]\n",
            " [145   1  25  77]\n",
            " [146   1  28  77]\n",
            " [147   1  48  77]\n",
            " [148   0  32  77]\n",
            " [149   0  34  78]\n",
            " [150   1  34  78]\n",
            " [151   1  43  78]\n",
            " [152   1  39  78]\n",
            " [153   0  44  78]\n",
            " [154   0  38  78]\n",
            " [155   0  47  78]\n",
            " [156   0  27  78]\n",
            " [157   1  37  78]\n",
            " [158   0  30  78]\n",
            " [159   1  34  78]\n",
            " [160   0  30  78]\n",
            " [161   0  56  79]\n",
            " [162   0  29  79]\n",
            " [163   1  19  81]\n",
            " [164   0  31  81]\n",
            " [165   1  50  85]\n",
            " [166   0  36  85]\n",
            " [167   1  42  86]\n",
            " [168   0  33  86]\n",
            " [169   0  36  87]\n",
            " [170   1  32  87]\n",
            " [171   1  40  87]\n",
            " [172   1  28  87]\n",
            " [173   1  36  87]\n",
            " [174   1  36  87]\n",
            " [175   0  52  88]\n",
            " [176   0  30  88]\n",
            " [177   1  58  88]\n",
            " [178   1  27  88]\n",
            " [179   1  59  93]\n",
            " [180   1  35  93]\n",
            " [181   0  37  97]\n",
            " [182   0  32  97]\n",
            " [183   1  46  98]\n",
            " [184   0  29  98]\n",
            " [185   0  41  99]\n",
            " [186   1  30  99]\n",
            " [187   0  54 101]\n",
            " [188   1  28 101]\n",
            " [189   0  41 103]\n",
            " [190   0  36 103]\n",
            " [191   0  34 103]\n",
            " [192   0  32 103]\n",
            " [193   1  33 113]\n",
            " [194   0  38 113]\n",
            " [195   0  47 120]\n",
            " [196   0  35 120]\n",
            " [197   0  45 126]\n",
            " [198   1  32 126]\n",
            " [199   1  32 137]\n",
            " [200   1  30 137]]\n"
          ]
        }
      ]
    },
    {
      "cell_type": "code",
      "source": [
        "print(y)"
      ],
      "metadata": {
        "colab": {
          "base_uri": "https://localhost:8080/"
        },
        "id": "pqLWepZnBnSc",
        "outputId": "c6961fab-cd2c-4c4a-e107-0a33b95c296c"
      },
      "execution_count": null,
      "outputs": [
        {
          "output_type": "stream",
          "name": "stdout",
          "text": [
            "[ 15  15  16  16  17  17  18  18  19  19  19  19  20  20  20  20  21  21\n",
            "  23  23  24  24  25  25  28  28  28  28  29  29  30  30  33  33  33  33\n",
            "  34  34  37  37  38  38  39  39  39  39  40  40  40  40  42  42  43  43\n",
            "  43  43  44  44  46  46  46  46  47  47  48  48  48  48  48  48  49  49\n",
            "  50  50  54  54  54  54  54  54  54  54  54  54  54  54  57  57  58  58\n",
            "  59  59  60  60  60  60  60  60  61  61  62  62  62  62  62  62  63  63\n",
            "  63  63  63  63  64  64  65  65  65  65  67  67  67  67  69  69  70  70\n",
            "  71  71  71  71  71  71  72  72  73  73  73  73  74  74  75  75  76  76\n",
            "  77  77  77  77  78  78  78  78  78  78  78  78  78  78  78  78  79  79\n",
            "  81  81  85  85  86  86  87  87  87  87  87  87  88  88  88  88  93  93\n",
            "  97  97  98  98  99  99 101 101 103 103 103 103 113 113 120 120 126 126\n",
            " 137 137]\n"
          ]
        }
      ]
    },
    {
      "cell_type": "markdown",
      "source": [
        "Split the data into training and testing"
      ],
      "metadata": {
        "id": "mdoWH0guBu8T"
      }
    },
    {
      "cell_type": "code",
      "source": [
        "from sklearn.datasets import make_blobs\n",
        "from sklearn.model_selection import train_test_split\n",
        "x, y = make_blobs(n_samples=1000)"
      ],
      "metadata": {
        "id": "KaLB2tIrBxf1"
      },
      "execution_count": null,
      "outputs": []
    },
    {
      "cell_type": "code",
      "source": [
        "x_train, x_test, y_train, y_test = train_test_split(x, y, test_size=0.5)\n",
        "print(x_train.shape, x_test.shape, y_train.shape, y_test.shape)"
      ],
      "metadata": {
        "colab": {
          "base_uri": "https://localhost:8080/"
        },
        "id": "ZSbaAaNuCAjy",
        "outputId": "d2d8a020-203b-48f6-e4a6-b12a086953bb"
      },
      "execution_count": null,
      "outputs": [
        {
          "output_type": "stream",
          "name": "stdout",
          "text": [
            "(500, 2) (500, 2) (500,) (500,)\n"
          ]
        }
      ]
    },
    {
      "cell_type": "markdown",
      "source": [
        "Building a model, Training and Testing"
      ],
      "metadata": {
        "id": "RS-g5T7KCNEA"
      }
    },
    {
      "cell_type": "code",
      "source": [
        "from sklearn.neighbors import KNeighborsClassifier\n",
        "knn = KNeighborsClassifier(n_neighbors= 2)\n",
        "knn.fit(x_train,y_train)"
      ],
      "metadata": {
        "colab": {
          "base_uri": "https://localhost:8080/"
        },
        "id": "oRJGdLweCPh3",
        "outputId": "2eaad57a-8cb8-4360-d5cc-479939d3fafd"
      },
      "execution_count": null,
      "outputs": [
        {
          "output_type": "execute_result",
          "data": {
            "text/plain": [
              "KNeighborsClassifier(n_neighbors=2)"
            ]
          },
          "metadata": {},
          "execution_count": 40
        }
      ]
    },
    {
      "cell_type": "code",
      "source": [
        "pd = knn.predict(x_test)"
      ],
      "metadata": {
        "id": "50Ye1i1UCc7c"
      },
      "execution_count": null,
      "outputs": []
    },
    {
      "cell_type": "code",
      "source": [
        "print(pd)"
      ],
      "metadata": {
        "colab": {
          "base_uri": "https://localhost:8080/"
        },
        "id": "1JfNfko1Cn0k",
        "outputId": "a610bdd2-8409-4182-ef87-2452d7d46578"
      },
      "execution_count": null,
      "outputs": [
        {
          "output_type": "stream",
          "name": "stdout",
          "text": [
            "[2 0 2 1 0 2 0 1 0 2 1 1 2 2 0 0 1 0 0 2 1 1 2 1 0 2 2 1 1 2 0 0 0 2 1 2 2\n",
            " 0 1 1 2 0 2 2 2 1 1 2 2 0 1 0 0 2 2 0 1 2 2 2 0 1 0 1 0 1 1 0 0 0 1 1 1 2\n",
            " 1 1 1 0 1 0 1 2 2 2 1 1 1 1 2 2 0 2 0 0 2 1 0 1 0 1 2 1 2 0 1 2 0 0 0 1 0\n",
            " 1 0 0 1 0 2 1 1 2 1 1 0 0 0 2 1 2 0 0 1 1 2 0 1 1 0 0 0 1 2 0 2 1 0 1 2 0\n",
            " 2 1 2 2 0 1 1 1 2 2 1 2 2 0 2 2 0 1 1 0 2 0 2 1 1 1 2 0 0 2 0 0 1 1 2 1 2\n",
            " 1 2 2 1 0 0 1 2 2 0 2 1 1 2 0 2 2 2 1 2 2 0 2 2 0 0 1 0 0 2 2 2 1 1 2 1 0\n",
            " 2 2 2 1 1 1 0 2 0 0 1 2 1 1 1 2 1 0 1 0 0 1 0 1 1 0 1 1 2 1 0 2 1 1 0 1 1\n",
            " 0 2 1 0 1 2 0 0 2 0 0 1 1 0 0 1 0 0 0 0 1 0 0 2 2 0 1 1 0 2 2 2 2 2 2 2 1\n",
            " 0 2 1 1 2 0 0 1 0 0 1 0 0 1 2 0 1 2 1 0 1 2 1 2 2 1 0 1 1 2 0 2 2 1 1 2 0\n",
            " 1 2 0 0 1 2 1 2 1 0 0 1 0 0 0 2 2 1 2 0 2 2 0 1 0 0 0 1 2 0 2 1 1 2 2 0 1\n",
            " 2 2 2 2 1 1 1 2 1 0 0 0 0 0 0 0 0 2 1 0 1 1 0 0 0 0 2 1 2 1 2 0 0 0 2 1 0\n",
            " 0 1 0 2 0 1 0 2 2 0 2 0 0 1 1 1 1 2 0 0 2 1 0 2 1 1 2 0 2 0 0 2 1 2 1 2 1\n",
            " 2 0 0 1 1 0 2 2 0 2 0 1 1 1 0 2 1 1 2 0 2 1 2 0 1 1 2 1 0 1 2 0 1 2 1 2 0\n",
            " 1 0 1 0 2 2 1 0 1 1 0 0 2 0 0 2 0 2 1]\n"
          ]
        }
      ]
    },
    {
      "cell_type": "code",
      "source": [
        "from sklearn.metrics import accuracy_score,confusion_matrix\n",
        "print(\"Accuracy score\",accuracy_score(y_test,pd))"
      ],
      "metadata": {
        "colab": {
          "base_uri": "https://localhost:8080/"
        },
        "id": "X8ZXdLp0CyaN",
        "outputId": "ef0c1b99-98eb-4c59-80ed-c7eba8faf281"
      },
      "execution_count": null,
      "outputs": [
        {
          "output_type": "stream",
          "name": "stdout",
          "text": [
            "Accuracy score 1.0\n"
          ]
        }
      ]
    },
    {
      "cell_type": "code",
      "source": [
        "confusion_matrix(y_test,pd)"
      ],
      "metadata": {
        "colab": {
          "base_uri": "https://localhost:8080/"
        },
        "id": "28e6-lK4DHCe",
        "outputId": "db7c3b74-38da-40d5-e493-a87bf89b9637"
      },
      "execution_count": null,
      "outputs": [
        {
          "output_type": "execute_result",
          "data": {
            "text/plain": [
              "array([[171,   0,   0],\n",
              "       [  0, 171,   0],\n",
              "       [  0,   0, 158]])"
            ]
          },
          "metadata": {},
          "execution_count": 45
        }
      ]
    }
  ]
}