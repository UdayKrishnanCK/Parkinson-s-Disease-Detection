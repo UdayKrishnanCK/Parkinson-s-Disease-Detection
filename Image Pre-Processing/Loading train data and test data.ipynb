{
 "cells": [
  {
   "cell_type": "markdown",
   "id": "cd91e21e",
   "metadata": {},
   "source": [
    "### IMPORTING THE NECESSARY PACKAGES AND LIBRARIES"
   ]
  },
  {
   "cell_type": "code",
   "execution_count": 6,
   "id": "4b446cb6",
   "metadata": {},
   "outputs": [],
   "source": [
    "import pandas as pd\n",
    "import numpy as np\n",
    "import seaborn as sns\n",
    "import matplotlib.pyplot as plt\n",
    "#PATH PROCESS\n",
    "import os\n",
    "import os.path\n",
    "from pathlib import Path\n",
    "import glob"
   ]
  },
  {
   "cell_type": "markdown",
   "id": "9f2522e7",
   "metadata": {},
   "source": [
    "### PATH AND LABELS"
   ]
  },
  {
   "cell_type": "code",
   "execution_count": 7,
   "id": "5c5242f3",
   "metadata": {},
   "outputs": [],
   "source": [
    "Spiral_Train_Path = Path(\"C:/Users/Administrator/Downloads/spiral-20221014T134359Z-001/spiral/training\")\n",
    "Spiral_Test_Path = Path(\"C:/Users/Administrator/Downloads/spiral-20221014T134359Z-001/spiral/testing\")"
   ]
  },
  {
   "cell_type": "code",
   "execution_count": 8,
   "id": "7e599794",
   "metadata": {},
   "outputs": [],
   "source": [
    "Spiral_Train_PNG_Path = list(Spiral_Train_Path.glob(r\"*/*.png\"))\n",
    "Spiral_Test_PNG_Path = list(Spiral_Test_Path.glob(r\"*/*.png\"))"
   ]
  },
  {
   "cell_type": "code",
   "execution_count": 9,
   "id": "0dc087e7",
   "metadata": {},
   "outputs": [],
   "source": [
    "Spiral_Train_PNG_Labels = list(map(lambda x: os.path.split(os.path.split(x)[0])[1],Spiral_Train_PNG_Path))\n",
    "Spiral_Test_PNG_Labels = list(map(lambda x: os.path.split(os.path.split(x)[0])[1],Spiral_Test_PNG_Path))"
   ]
  },
  {
   "cell_type": "markdown",
   "id": "e61e45b1",
   "metadata": {},
   "source": [
    "### TRANSFORMATION TO SERIES STRUCTURE"
   ]
  },
  {
   "cell_type": "code",
   "execution_count": 10,
   "id": "a401f409",
   "metadata": {},
   "outputs": [],
   "source": [
    "Spiral_Train_PNG_Path_Series = pd.Series(Spiral_Train_PNG_Path,name=\"PNG\").astype(str)\n",
    "Spiral_Train_PNG_Labels_Series = pd.Series(Spiral_Train_PNG_Labels,name=\"CATEGORY\")"
   ]
  },
  {
   "cell_type": "code",
   "execution_count": 11,
   "id": "62988aeb",
   "metadata": {},
   "outputs": [],
   "source": [
    "Spiral_Test_PNG_Path_Series = pd.Series(Spiral_Test_PNG_Path,name=\"PNG\").astype(str)\n",
    "Spiral_Test_PNG_Labels_Series = pd.Series(Spiral_Test_PNG_Labels,name=\"CATEGORY\")"
   ]
  },
  {
   "cell_type": "markdown",
   "id": "13513192",
   "metadata": {},
   "source": [
    "### TRANSFORMATION TO DATAFRAME STRUCTURE "
   ]
  },
  {
   "cell_type": "code",
   "execution_count": 12,
   "id": "a205094e",
   "metadata": {},
   "outputs": [],
   "source": [
    "Main_Spiral_Train_Data = pd.concat([Spiral_Train_PNG_Path_Series,Spiral_Train_PNG_Labels_Series],axis=1)"
   ]
  },
  {
   "cell_type": "code",
   "execution_count": 13,
   "id": "6591f79f",
   "metadata": {},
   "outputs": [
    {
     "name": "stdout",
     "output_type": "stream",
     "text": [
      "                                                  PNG   CATEGORY\n",
      "0   C:\\Users\\Administrator\\Downloads\\spiral-202210...    healthy\n",
      "1   C:\\Users\\Administrator\\Downloads\\spiral-202210...    healthy\n",
      "2   C:\\Users\\Administrator\\Downloads\\spiral-202210...    healthy\n",
      "3   C:\\Users\\Administrator\\Downloads\\spiral-202210...    healthy\n",
      "4   C:\\Users\\Administrator\\Downloads\\spiral-202210...    healthy\n",
      "..                                                ...        ...\n",
      "66  C:\\Users\\Administrator\\Downloads\\spiral-202210...  parkinson\n",
      "67  C:\\Users\\Administrator\\Downloads\\spiral-202210...  parkinson\n",
      "68  C:\\Users\\Administrator\\Downloads\\spiral-202210...  parkinson\n",
      "69  C:\\Users\\Administrator\\Downloads\\spiral-202210...  parkinson\n",
      "70  C:\\Users\\Administrator\\Downloads\\spiral-202210...  parkinson\n",
      "\n",
      "[71 rows x 2 columns]\n"
     ]
    }
   ],
   "source": [
    "print(Main_Spiral_Train_Data.head(-1))"
   ]
  },
  {
   "cell_type": "code",
   "execution_count": 14,
   "id": "45895232",
   "metadata": {},
   "outputs": [],
   "source": [
    "Main_Spiral_Test_Data = pd.concat([Spiral_Test_PNG_Path_Series,Spiral_Test_PNG_Labels_Series],axis=1)"
   ]
  },
  {
   "cell_type": "code",
   "execution_count": 15,
   "id": "1b2776ea",
   "metadata": {},
   "outputs": [
    {
     "name": "stdout",
     "output_type": "stream",
     "text": [
      "                                                  PNG   CATEGORY\n",
      "0   C:\\Users\\Administrator\\Downloads\\spiral-202210...    healthy\n",
      "1   C:\\Users\\Administrator\\Downloads\\spiral-202210...    healthy\n",
      "2   C:\\Users\\Administrator\\Downloads\\spiral-202210...    healthy\n",
      "3   C:\\Users\\Administrator\\Downloads\\spiral-202210...    healthy\n",
      "4   C:\\Users\\Administrator\\Downloads\\spiral-202210...    healthy\n",
      "5   C:\\Users\\Administrator\\Downloads\\spiral-202210...    healthy\n",
      "6   C:\\Users\\Administrator\\Downloads\\spiral-202210...    healthy\n",
      "7   C:\\Users\\Administrator\\Downloads\\spiral-202210...    healthy\n",
      "8   C:\\Users\\Administrator\\Downloads\\spiral-202210...    healthy\n",
      "9   C:\\Users\\Administrator\\Downloads\\spiral-202210...    healthy\n",
      "10  C:\\Users\\Administrator\\Downloads\\spiral-202210...    healthy\n",
      "11  C:\\Users\\Administrator\\Downloads\\spiral-202210...    healthy\n",
      "12  C:\\Users\\Administrator\\Downloads\\spiral-202210...    healthy\n",
      "13  C:\\Users\\Administrator\\Downloads\\spiral-202210...    healthy\n",
      "14  C:\\Users\\Administrator\\Downloads\\spiral-202210...    healthy\n",
      "15  C:\\Users\\Administrator\\Downloads\\spiral-202210...  parkinson\n",
      "16  C:\\Users\\Administrator\\Downloads\\spiral-202210...  parkinson\n",
      "17  C:\\Users\\Administrator\\Downloads\\spiral-202210...  parkinson\n",
      "18  C:\\Users\\Administrator\\Downloads\\spiral-202210...  parkinson\n",
      "19  C:\\Users\\Administrator\\Downloads\\spiral-202210...  parkinson\n",
      "20  C:\\Users\\Administrator\\Downloads\\spiral-202210...  parkinson\n",
      "21  C:\\Users\\Administrator\\Downloads\\spiral-202210...  parkinson\n",
      "22  C:\\Users\\Administrator\\Downloads\\spiral-202210...  parkinson\n",
      "23  C:\\Users\\Administrator\\Downloads\\spiral-202210...  parkinson\n",
      "24  C:\\Users\\Administrator\\Downloads\\spiral-202210...  parkinson\n",
      "25  C:\\Users\\Administrator\\Downloads\\spiral-202210...  parkinson\n",
      "26  C:\\Users\\Administrator\\Downloads\\spiral-202210...  parkinson\n",
      "27  C:\\Users\\Administrator\\Downloads\\spiral-202210...  parkinson\n",
      "28  C:\\Users\\Administrator\\Downloads\\spiral-202210...  parkinson\n"
     ]
    }
   ],
   "source": [
    "print(Main_Spiral_Test_Data.head(-1))"
   ]
  },
  {
   "cell_type": "code",
   "execution_count": null,
   "id": "3ec8caa6",
   "metadata": {},
   "outputs": [],
   "source": []
  }
 ],
 "metadata": {
  "kernelspec": {
   "display_name": "Python 3",
   "language": "python",
   "name": "python3"
  },
  "language_info": {
   "codemirror_mode": {
    "name": "ipython",
    "version": 3
   },
   "file_extension": ".py",
   "mimetype": "text/x-python",
   "name": "python",
   "nbconvert_exporter": "python",
   "pygments_lexer": "ipython3",
   "version": "3.8.8"
  }
 },
 "nbformat": 4,
 "nbformat_minor": 5
}
